{
 "cells": [
  {
   "cell_type": "code",
   "execution_count": 1,
   "id": "fd49b20a-f454-40c3-88bb-37653ee12dae",
   "metadata": {},
   "outputs": [],
   "source": [
    "import numpy as np"
   ]
  },
  {
   "cell_type": "markdown",
   "id": "0da9b2aa-7cf8-4d6f-bf0d-c3b3eee57e41",
   "metadata": {},
   "source": [
    "**make numpy array from list**"
   ]
  },
  {
   "cell_type": "code",
   "execution_count": 2,
   "id": "6102a63f-540d-422c-a9a7-fde72d8134c7",
   "metadata": {},
   "outputs": [],
   "source": [
    "myarr = np.array([3,21,23,37],np.int8)"
   ]
  },
  {
   "cell_type": "code",
   "execution_count": 3,
   "id": "5a32b40a-2e53-4ff0-9943-fb4b8d3ce908",
   "metadata": {},
   "outputs": [
    {
     "data": {
      "text/plain": [
       "array([ 3, 21, 23, 37], dtype=int8)"
      ]
     },
     "execution_count": 3,
     "metadata": {},
     "output_type": "execute_result"
    }
   ],
   "source": [
    "myarr "
   ]
  },
  {
   "cell_type": "markdown",
   "id": "de041662-8a08-4921-b5e2-5b723a85a53f",
   "metadata": {},
   "source": [
    "**fetch first or any element**"
   ]
  },
  {
   "cell_type": "code",
   "execution_count": 4,
   "id": "0676880a-0c70-422a-bf6e-04a4e4306a46",
   "metadata": {},
   "outputs": [],
   "source": [
    "myarr = np.array([3,21,23,37],np.int8)"
   ]
  },
  {
   "cell_type": "code",
   "execution_count": 5,
   "id": "e8d36bae-17ea-42e0-b7ac-fc0069856534",
   "metadata": {},
   "outputs": [
    {
     "data": {
      "text/plain": [
       "3"
      ]
     },
     "execution_count": 5,
     "metadata": {},
     "output_type": "execute_result"
    }
   ],
   "source": [
    "myarr[0] "
   ]
  },
  {
   "cell_type": "markdown",
   "id": "f390ff10-500a-4496-ab22-fb0a36c5fdc4",
   "metadata": {},
   "source": [
    "**fetch row and column**"
   ]
  },
  {
   "cell_type": "code",
   "execution_count": 6,
   "id": "7162433d-6572-4db0-8fdc-600a176817a0",
   "metadata": {},
   "outputs": [],
   "source": [
    "myarr = np.array([[3,21,23,37]],np.int8)"
   ]
  },
  {
   "cell_type": "code",
   "execution_count": 7,
   "id": "afac6555-fad9-4a42-98f9-adb7a0a1587b",
   "metadata": {},
   "outputs": [
    {
     "data": {
      "text/plain": [
       "21"
      ]
     },
     "execution_count": 7,
     "metadata": {},
     "output_type": "execute_result"
    }
   ],
   "source": [
    "myarr[0,1] "
   ]
  },
  {
   "cell_type": "code",
   "execution_count": 8,
   "id": "3f18d6d7-81af-4745-bf0e-0dc025616d63",
   "metadata": {},
   "outputs": [],
   "source": [
    "myarr = np.array([[3,21,23,37]],np.int8)"
   ]
  },
  {
   "cell_type": "code",
   "execution_count": 9,
   "id": "64dcb75c-ac26-453d-b220-ac16f4cc00d9",
   "metadata": {},
   "outputs": [
    {
     "data": {
      "text/plain": [
       "3"
      ]
     },
     "execution_count": 9,
     "metadata": {},
     "output_type": "execute_result"
    }
   ],
   "source": [
    "myarr[0,0]"
   ]
  },
  {
   "cell_type": "markdown",
   "id": "14224beb-98d3-4b5e-a459-793b7841dd16",
   "metadata": {},
   "source": [
    "**change item in list**"
   ]
  },
  {
   "cell_type": "code",
   "execution_count": 10,
   "id": "13e7e007-3364-42de-9b71-6128da97b82c",
   "metadata": {},
   "outputs": [],
   "source": [
    "myarr = np.array([[3,21,23,37]],np.int8)"
   ]
  },
  {
   "cell_type": "code",
   "execution_count": 11,
   "id": "89fb842a-e6a2-4b1c-91b1-48d8592106f0",
   "metadata": {},
   "outputs": [],
   "source": [
    "myarr[0,2]=50 "
   ]
  },
  {
   "cell_type": "code",
   "execution_count": 12,
   "id": "01cc8851-1bf0-449f-8d93-8354cf9657fb",
   "metadata": {},
   "outputs": [
    {
     "data": {
      "text/plain": [
       "array([[ 3, 21, 50, 37]], dtype=int8)"
      ]
     },
     "execution_count": 12,
     "metadata": {},
     "output_type": "execute_result"
    }
   ],
   "source": [
    "myarr"
   ]
  },
  {
   "cell_type": "markdown",
   "id": "c819bdbe-1331-466d-b82f-2a526f364bd3",
   "metadata": {},
   "source": [
    "**1:--array creation: convertion from other python structure**"
   ]
  },
  {
   "cell_type": "code",
   "execution_count": 13,
   "id": "1812483a-11c1-4b8e-bcd6-39fc2020bb4e",
   "metadata": {},
   "outputs": [],
   "source": [
    "listarray= np.array([[1,2,3],[4,5,6],[7,8,9]])"
   ]
  },
  {
   "cell_type": "code",
   "execution_count": 14,
   "id": "052e2b0e-c346-42c5-84a4-2cf816569e33",
   "metadata": {},
   "outputs": [
    {
     "data": {
      "text/plain": [
       "array([[1, 2, 3],\n",
       "       [4, 5, 6],\n",
       "       [7, 8, 9]])"
      ]
     },
     "execution_count": 14,
     "metadata": {},
     "output_type": "execute_result"
    }
   ],
   "source": [
    "listarray"
   ]
  },
  {
   "cell_type": "code",
   "execution_count": 15,
   "id": "7e905486-abcb-4068-b998-fb11455949a8",
   "metadata": {},
   "outputs": [
    {
     "data": {
      "text/plain": [
       "2"
      ]
     },
     "execution_count": 15,
     "metadata": {},
     "output_type": "execute_result"
    }
   ],
   "source": [
    "listarray.ndim    #dimension means 2 bracket =2-D array"
   ]
  },
  {
   "cell_type": "code",
   "execution_count": 16,
   "id": "2c5287e7-c0c9-4424-988a-c44fadc5c244",
   "metadata": {},
   "outputs": [
    {
     "data": {
      "text/plain": [
       "dtype('int32')"
      ]
     },
     "execution_count": 16,
     "metadata": {},
     "output_type": "execute_result"
    }
   ],
   "source": [
    "listarray.dtype     #datatype"
   ]
  },
  {
   "cell_type": "code",
   "execution_count": 17,
   "id": "9f9071a7-d057-4fa7-9c7f-97a663a457b5",
   "metadata": {},
   "outputs": [
    {
     "data": {
      "text/plain": [
       "(3, 3)"
      ]
     },
     "execution_count": 17,
     "metadata": {},
     "output_type": "execute_result"
    }
   ],
   "source": [
    "listarray.shape"
   ]
  },
  {
   "cell_type": "code",
   "execution_count": 18,
   "id": "56feb692-1e51-4343-947c-538874c861b8",
   "metadata": {},
   "outputs": [
    {
     "data": {
      "text/plain": [
       "9"
      ]
     },
     "execution_count": 18,
     "metadata": {},
     "output_type": "execute_result"
    }
   ],
   "source": [
    "listarray.size"
   ]
  },
  {
   "cell_type": "code",
   "execution_count": 19,
   "id": "4959f08e-1f51-4d08-9dd8-495708c7bbff",
   "metadata": {},
   "outputs": [],
   "source": [
    "zeros=np.zeros((2,5))     #only make matrix of zero element"
   ]
  },
  {
   "cell_type": "code",
   "execution_count": 20,
   "id": "cd92e9bd-3c9b-49b1-b150-e6e33094088b",
   "metadata": {},
   "outputs": [
    {
     "data": {
      "text/plain": [
       "array([[0., 0., 0., 0., 0.],\n",
       "       [0., 0., 0., 0., 0.]])"
      ]
     },
     "execution_count": 20,
     "metadata": {},
     "output_type": "execute_result"
    }
   ],
   "source": [
    "zeros"
   ]
  },
  {
   "cell_type": "code",
   "execution_count": 21,
   "id": "f097ca9b-fd68-4992-bc85-5a4a3b358e01",
   "metadata": {},
   "outputs": [],
   "source": [
    "rng=np.arange(20)     #make 20 element from 0 to 19"
   ]
  },
  {
   "cell_type": "code",
   "execution_count": 22,
   "id": "17831e2b-bece-452c-89d3-5e076c263362",
   "metadata": {},
   "outputs": [
    {
     "data": {
      "text/plain": [
       "array([ 0,  1,  2,  3,  4,  5,  6,  7,  8,  9, 10, 11, 12, 13, 14, 15, 16,\n",
       "       17, 18, 19])"
      ]
     },
     "execution_count": 22,
     "metadata": {},
     "output_type": "execute_result"
    }
   ],
   "source": [
    "rng"
   ]
  },
  {
   "cell_type": "code",
   "execution_count": 23,
   "id": "dda45219-788f-47d7-8e30-0d0aec8b456a",
   "metadata": {},
   "outputs": [],
   "source": [
    "lspace=np.linspace(1,5,12)"
   ]
  },
  {
   "cell_type": "code",
   "execution_count": 24,
   "id": "b5d28ecf-4c49-4ab3-90b6-fbde66d2f00c",
   "metadata": {},
   "outputs": [
    {
     "data": {
      "text/plain": [
       "array([1.        , 1.36363636, 1.72727273, 2.09090909, 2.45454545,\n",
       "       2.81818182, 3.18181818, 3.54545455, 3.90909091, 4.27272727,\n",
       "       4.63636364, 5.        ])"
      ]
     },
     "execution_count": 24,
     "metadata": {},
     "output_type": "execute_result"
    }
   ],
   "source": [
    "lspace        #1=first element, 5=last element, 12=from 1 to 5 in 12 times"
   ]
  },
  {
   "cell_type": "code",
   "execution_count": 25,
   "id": "2fb7bf4c-cd0c-41ad-85c1-e535314f0a0e",
   "metadata": {},
   "outputs": [],
   "source": [
    "lspace=np.linspace(1,3,4)"
   ]
  },
  {
   "cell_type": "code",
   "execution_count": 26,
   "id": "c6db72f7-0b41-4716-ac1c-60617b3d5d55",
   "metadata": {},
   "outputs": [
    {
     "data": {
      "text/plain": [
       "array([1.        , 1.66666667, 2.33333333, 3.        ])"
      ]
     },
     "execution_count": 26,
     "metadata": {},
     "output_type": "execute_result"
    }
   ],
   "source": [
    "lspace"
   ]
  },
  {
   "cell_type": "code",
   "execution_count": 27,
   "id": "bef4dbe2-9408-4b60-9c2f-2a0ef1c7742c",
   "metadata": {},
   "outputs": [],
   "source": [
    "emp=np.empty((3,6))"
   ]
  },
  {
   "cell_type": "code",
   "execution_count": 28,
   "id": "7ac0808b-0d9a-48f3-8ab8-36e96d5e7c75",
   "metadata": {},
   "outputs": [
    {
     "data": {
      "text/plain": [
       "array([[4.67296746e-307, 1.69121096e-306, 1.86919378e-306,\n",
       "        1.86920057e-306, 7.56574003e-307, 6.23054972e-307],\n",
       "       [2.22522597e-306, 1.33511969e-306, 1.37962320e-306,\n",
       "        9.34604358e-307, 9.79101082e-307, 1.78020576e-306],\n",
       "       [1.69119873e-306, 2.22522868e-306, 1.24611809e-306,\n",
       "        8.06632139e-308, 1.60221208e-306, 2.29178686e-312]])"
      ]
     },
     "execution_count": 28,
     "metadata": {},
     "output_type": "execute_result"
    }
   ],
   "source": [
    "emp      #make a random element for 3 row and 6 column matrix"
   ]
  },
  {
   "cell_type": "code",
   "execution_count": 29,
   "id": "24895769-652e-4c99-9fbd-0219e2f4e776",
   "metadata": {},
   "outputs": [],
   "source": [
    "ide=np.identity(5)        #make 4*4 identity matrix"
   ]
  },
  {
   "cell_type": "code",
   "execution_count": 30,
   "id": "d1fa317d-9bf5-4f0c-9442-8d7a313e646c",
   "metadata": {},
   "outputs": [
    {
     "data": {
      "text/plain": [
       "array([[1., 0., 0., 0., 0.],\n",
       "       [0., 1., 0., 0., 0.],\n",
       "       [0., 0., 1., 0., 0.],\n",
       "       [0., 0., 0., 1., 0.],\n",
       "       [0., 0., 0., 0., 1.]])"
      ]
     },
     "execution_count": 30,
     "metadata": {},
     "output_type": "execute_result"
    }
   ],
   "source": [
    "ide"
   ]
  },
  {
   "cell_type": "code",
   "execution_count": 31,
   "id": "0a5bca31-e8cf-43d6-9169-a3dc8f461d5b",
   "metadata": {},
   "outputs": [
    {
     "data": {
      "text/plain": [
       "(5, 5)"
      ]
     },
     "execution_count": 31,
     "metadata": {},
     "output_type": "execute_result"
    }
   ],
   "source": [
    "ide.shape"
   ]
  },
  {
   "cell_type": "code",
   "execution_count": 32,
   "id": "e9d2658e-72a3-4599-a93b-7013b3fde4df",
   "metadata": {},
   "outputs": [],
   "source": [
    "arange=np.arange(99)          #make 0 to 98 element "
   ]
  },
  {
   "cell_type": "code",
   "execution_count": 33,
   "id": "c541073d-34e8-416f-b78d-625f5cfa1b9d",
   "metadata": {},
   "outputs": [
    {
     "data": {
      "text/plain": [
       "array([ 0,  1,  2,  3,  4,  5,  6,  7,  8,  9, 10, 11, 12, 13, 14, 15, 16,\n",
       "       17, 18, 19, 20, 21, 22, 23, 24, 25, 26, 27, 28, 29, 30, 31, 32, 33,\n",
       "       34, 35, 36, 37, 38, 39, 40, 41, 42, 43, 44, 45, 46, 47, 48, 49, 50,\n",
       "       51, 52, 53, 54, 55, 56, 57, 58, 59, 60, 61, 62, 63, 64, 65, 66, 67,\n",
       "       68, 69, 70, 71, 72, 73, 74, 75, 76, 77, 78, 79, 80, 81, 82, 83, 84,\n",
       "       85, 86, 87, 88, 89, 90, 91, 92, 93, 94, 95, 96, 97, 98])"
      ]
     },
     "execution_count": 33,
     "metadata": {},
     "output_type": "execute_result"
    }
   ],
   "source": [
    "arange"
   ]
  },
  {
   "cell_type": "code",
   "execution_count": 34,
   "id": "974aa5e6-a14a-4997-9842-0939f508dc2a",
   "metadata": {},
   "outputs": [
    {
     "data": {
      "text/plain": [
       "array([[ 0,  1,  2,  3,  4,  5,  6,  7,  8,  9, 10, 11, 12, 13, 14, 15,\n",
       "        16, 17, 18, 19, 20, 21, 22, 23, 24, 25, 26, 27, 28, 29, 30, 31,\n",
       "        32],\n",
       "       [33, 34, 35, 36, 37, 38, 39, 40, 41, 42, 43, 44, 45, 46, 47, 48,\n",
       "        49, 50, 51, 52, 53, 54, 55, 56, 57, 58, 59, 60, 61, 62, 63, 64,\n",
       "        65],\n",
       "       [66, 67, 68, 69, 70, 71, 72, 73, 74, 75, 76, 77, 78, 79, 80, 81,\n",
       "        82, 83, 84, 85, 86, 87, 88, 89, 90, 91, 92, 93, 94, 95, 96, 97,\n",
       "        98]])"
      ]
     },
     "execution_count": 34,
     "metadata": {},
     "output_type": "execute_result"
    }
   ],
   "source": [
    "arange.reshape(3,33)       # 3*33=99, make make 3 row and 33 column matrix of 99 element"
   ]
  },
  {
   "cell_type": "code",
   "execution_count": 35,
   "id": "32746a33-710e-4904-8932-e609a97c3562",
   "metadata": {},
   "outputs": [
    {
     "data": {
      "text/plain": [
       "array([ 0,  1,  2,  3,  4,  5,  6,  7,  8,  9, 10, 11, 12, 13, 14, 15, 16,\n",
       "       17, 18, 19, 20, 21, 22, 23, 24, 25, 26, 27, 28, 29, 30, 31, 32, 33,\n",
       "       34, 35, 36, 37, 38, 39, 40, 41, 42, 43, 44, 45, 46, 47, 48, 49, 50,\n",
       "       51, 52, 53, 54, 55, 56, 57, 58, 59, 60, 61, 62, 63, 64, 65, 66, 67,\n",
       "       68, 69, 70, 71, 72, 73, 74, 75, 76, 77, 78, 79, 80, 81, 82, 83, 84,\n",
       "       85, 86, 87, 88, 89, 90, 91, 92, 93, 94, 95, 96, 97, 98])"
      ]
     },
     "execution_count": 35,
     "metadata": {},
     "output_type": "execute_result"
    }
   ],
   "source": [
    "arange.ravel()      #make 1-D array of reshape matrix"
   ]
  },
  {
   "cell_type": "markdown",
   "id": "1503013e-a839-47e2-90ae-73ff6d413111",
   "metadata": {},
   "source": [
    "**NUMPY AXIS**"
   ]
  },
  {
   "cell_type": "code",
   "execution_count": 36,
   "id": "fb5845b1-e476-4060-903d-4d0ec3089f33",
   "metadata": {},
   "outputs": [],
   "source": [
    "x=np.array([[1,2,3],[4,5,6],[7,8,9]])"
   ]
  },
  {
   "cell_type": "code",
   "execution_count": 37,
   "id": "4daea021-0453-4912-883d-8ea8ce240fc8",
   "metadata": {},
   "outputs": [
    {
     "data": {
      "text/plain": [
       "array([[1, 2, 3],\n",
       "       [4, 5, 6],\n",
       "       [7, 8, 9]])"
      ]
     },
     "execution_count": 37,
     "metadata": {},
     "output_type": "execute_result"
    }
   ],
   "source": [
    "x"
   ]
  },
  {
   "cell_type": "code",
   "execution_count": 38,
   "id": "f00b5ff0-ef7d-4ec1-914d-a50adf73f1d6",
   "metadata": {},
   "outputs": [
    {
     "data": {
      "text/plain": [
       "array([12, 15, 18])"
      ]
     },
     "execution_count": 38,
     "metadata": {},
     "output_type": "execute_result"
    }
   ],
   "source": [
    "x.sum(axis=0)   # SUM OF COLUMN"
   ]
  },
  {
   "cell_type": "code",
   "execution_count": 39,
   "id": "32da827b-960b-445f-b866-4332ccc91ec3",
   "metadata": {},
   "outputs": [
    {
     "data": {
      "text/plain": [
       "array([ 6, 15, 24])"
      ]
     },
     "execution_count": 39,
     "metadata": {},
     "output_type": "execute_result"
    }
   ],
   "source": [
    "x.sum(axis=1)"
   ]
  },
  {
   "cell_type": "code",
   "execution_count": 40,
   "id": "28f08f1e-4034-42a2-94e9-26792af94e21",
   "metadata": {},
   "outputs": [
    {
     "name": "stdout",
     "output_type": "stream",
     "text": [
      "1\n",
      "2\n",
      "3\n",
      "4\n",
      "5\n",
      "6\n",
      "7\n",
      "8\n",
      "9\n"
     ]
    }
   ],
   "source": [
    "for item in x.flat: #flat use for iteration\n",
    "    print(item)"
   ]
  },
  {
   "cell_type": "code",
   "execution_count": 41,
   "id": "70fe703e-978e-4a13-a91c-20d0d5034127",
   "metadata": {},
   "outputs": [
    {
     "name": "stdout",
     "output_type": "stream",
     "text": [
      "[[1 2 3]\n",
      " [4 5 6]\n",
      " [7 8 9]]\n",
      "[[1 2 3]\n",
      " [4 5 6]\n",
      " [7 8 9]]\n",
      "[[1 2 3]\n",
      " [4 5 6]\n",
      " [7 8 9]]\n"
     ]
    }
   ],
   "source": [
    "for i in x:\n",
    "    print(x)"
   ]
  },
  {
   "cell_type": "code",
   "execution_count": 42,
   "id": "6ded4436-377a-4abb-9304-29d09888ba6c",
   "metadata": {},
   "outputs": [
    {
     "name": "stdout",
     "output_type": "stream",
     "text": [
      "[[1 2 3]\n",
      " [4 5 6]\n",
      " [7 8 9]]\n",
      "[[1 2 3]\n",
      " [4 5 6]\n",
      " [7 8 9]]\n",
      "[[1 2 3]\n",
      " [4 5 6]\n",
      " [7 8 9]]\n",
      "[[1 2 3]\n",
      " [4 5 6]\n",
      " [7 8 9]]\n",
      "[[1 2 3]\n",
      " [4 5 6]\n",
      " [7 8 9]]\n"
     ]
    }
   ],
   "source": [
    "for i in range(1,6):\n",
    "    print(x)"
   ]
  },
  {
   "cell_type": "code",
   "execution_count": 43,
   "id": "22c8bbf1-7123-454f-9965-f61cad01e78f",
   "metadata": {},
   "outputs": [
    {
     "data": {
      "text/plain": [
       "array([[1, 4, 7],\n",
       "       [2, 5, 8],\n",
       "       [3, 6, 9]])"
      ]
     },
     "execution_count": 43,
     "metadata": {},
     "output_type": "execute_result"
    }
   ],
   "source": [
    "x.T #TRANSPOSE ARRAY"
   ]
  },
  {
   "cell_type": "code",
   "execution_count": 44,
   "id": "0917c4ea-ebc4-4d56-a4fd-fe182e3a2fcf",
   "metadata": {},
   "outputs": [
    {
     "data": {
      "text/plain": [
       "2"
      ]
     },
     "execution_count": 44,
     "metadata": {},
     "output_type": "execute_result"
    }
   ],
   "source": [
    "x.ndim #DIMENSION OF ARRAY"
   ]
  },
  {
   "cell_type": "code",
   "execution_count": 45,
   "id": "d0fe6593-7b47-4ce6-b000-01b22aad8222",
   "metadata": {},
   "outputs": [
    {
     "data": {
      "text/plain": [
       "36"
      ]
     },
     "execution_count": 45,
     "metadata": {},
     "output_type": "execute_result"
    }
   ],
   "source": [
    "x.nbytes #कितना जगह(bytes) ले रहा है स्टोर करने के लिए"
   ]
  },
  {
   "cell_type": "code",
   "execution_count": 46,
   "id": "b1c054a8-0c42-459f-baf1-45ef592f8ad6",
   "metadata": {},
   "outputs": [],
   "source": [
    "one=np.array([1,3,4,634,2])"
   ]
  },
  {
   "cell_type": "code",
   "execution_count": 47,
   "id": "7d13330a-4f99-454c-8c68-8766ca696d18",
   "metadata": {},
   "outputs": [
    {
     "data": {
      "text/plain": [
       "3"
      ]
     },
     "execution_count": 47,
     "metadata": {},
     "output_type": "execute_result"
    }
   ],
   "source": [
    "one.argmax() #MAXIMUM ELEMENT"
   ]
  },
  {
   "cell_type": "code",
   "execution_count": 48,
   "id": "42f874ab-dba8-4310-bcd6-46f1faaca5b5",
   "metadata": {},
   "outputs": [
    {
     "data": {
      "text/plain": [
       "0"
      ]
     },
     "execution_count": 48,
     "metadata": {},
     "output_type": "execute_result"
    }
   ],
   "source": [
    "one.argmin() #MINIMUM ELEMENT"
   ]
  },
  {
   "cell_type": "code",
   "execution_count": 49,
   "id": "8eb37932-9daa-4048-bd23-08988c1c4384",
   "metadata": {},
   "outputs": [
    {
     "data": {
      "text/plain": [
       "array([0, 4, 1, 2, 3], dtype=int64)"
      ]
     },
     "execution_count": 49,
     "metadata": {},
     "output_type": "execute_result"
    }
   ],
   "source": [
    "one.argsort()  #SORT INDICES IN ASSENDING ORDER"
   ]
  },
  {
   "cell_type": "code",
   "execution_count": 50,
   "id": "c5360f2f-d585-410a-919f-2bb28588e4db",
   "metadata": {},
   "outputs": [
    {
     "data": {
      "text/plain": [
       "array([[1, 2, 3],\n",
       "       [4, 5, 6],\n",
       "       [7, 8, 9]])"
      ]
     },
     "execution_count": 50,
     "metadata": {},
     "output_type": "execute_result"
    }
   ],
   "source": [
    "x"
   ]
  },
  {
   "cell_type": "code",
   "execution_count": 51,
   "id": "96d9c3cb-0fbb-42ac-9506-abf779dde2dc",
   "metadata": {},
   "outputs": [
    {
     "data": {
      "text/plain": [
       "0"
      ]
     },
     "execution_count": 51,
     "metadata": {},
     "output_type": "execute_result"
    }
   ],
   "source": [
    "x.argmin()"
   ]
  },
  {
   "cell_type": "code",
   "execution_count": 52,
   "id": "250b29c3-9316-4476-a4a6-cdf64ae41098",
   "metadata": {},
   "outputs": [
    {
     "data": {
      "text/plain": [
       "8"
      ]
     },
     "execution_count": 52,
     "metadata": {},
     "output_type": "execute_result"
    }
   ],
   "source": [
    "x.argmax()"
   ]
  },
  {
   "cell_type": "code",
   "execution_count": 53,
   "id": "60fdf2b1-6c5d-4d0f-bd7d-f246fc7988c3",
   "metadata": {},
   "outputs": [
    {
     "data": {
      "text/plain": [
       "array([0, 0, 0], dtype=int64)"
      ]
     },
     "execution_count": 53,
     "metadata": {},
     "output_type": "execute_result"
    }
   ],
   "source": [
    "x.argmin(axis=0)    #MIN INDICES SHOW"
   ]
  },
  {
   "cell_type": "code",
   "execution_count": 54,
   "id": "78676e8d-2317-4411-b8b3-5c3e4ebdc84c",
   "metadata": {},
   "outputs": [
    {
     "data": {
      "text/plain": [
       "array([0, 0, 0], dtype=int64)"
      ]
     },
     "execution_count": 54,
     "metadata": {},
     "output_type": "execute_result"
    }
   ],
   "source": [
    "x.argmin(axis=1)"
   ]
  },
  {
   "cell_type": "code",
   "execution_count": 55,
   "id": "d8a18878-fc07-4d82-bb72-be53bf2f8545",
   "metadata": {},
   "outputs": [
    {
     "data": {
      "text/plain": [
       "array([2, 2, 2], dtype=int64)"
      ]
     },
     "execution_count": 55,
     "metadata": {},
     "output_type": "execute_result"
    }
   ],
   "source": [
    "x.argmax(axis=0)"
   ]
  },
  {
   "cell_type": "code",
   "execution_count": 56,
   "id": "c244de69-f059-46e3-8649-1dbfdb93b3cb",
   "metadata": {},
   "outputs": [
    {
     "data": {
      "text/plain": [
       "array([2, 2, 2], dtype=int64)"
      ]
     },
     "execution_count": 56,
     "metadata": {},
     "output_type": "execute_result"
    }
   ],
   "source": [
    "x.argmax(axis=1)"
   ]
  },
  {
   "cell_type": "code",
   "execution_count": 57,
   "id": "038e178e-d967-4722-b2ab-3de1d38c3617",
   "metadata": {},
   "outputs": [
    {
     "data": {
      "text/plain": [
       "array([[0, 1, 2],\n",
       "       [0, 1, 2],\n",
       "       [0, 1, 2]], dtype=int64)"
      ]
     },
     "execution_count": 57,
     "metadata": {},
     "output_type": "execute_result"
    }
   ],
   "source": [
    "x.argsort() #INDICES SORT"
   ]
  },
  {
   "cell_type": "code",
   "execution_count": 58,
   "id": "e71cae07-cb6d-4335-af38-4eaf4e9a7d31",
   "metadata": {},
   "outputs": [
    {
     "data": {
      "text/plain": [
       "array([[0, 0, 0],\n",
       "       [1, 1, 1],\n",
       "       [2, 2, 2]], dtype=int64)"
      ]
     },
     "execution_count": 58,
     "metadata": {},
     "output_type": "execute_result"
    }
   ],
   "source": [
    "x.argsort(axis=0)"
   ]
  },
  {
   "cell_type": "code",
   "execution_count": 59,
   "id": "f3f27d78-ca73-40f3-bf92-8108de493cbe",
   "metadata": {},
   "outputs": [
    {
     "data": {
      "text/plain": [
       "array([[1, 4, 7],\n",
       "       [2, 5, 8],\n",
       "       [3, 6, 9]])"
      ]
     },
     "execution_count": 59,
     "metadata": {},
     "output_type": "execute_result"
    }
   ],
   "source": [
    "x.T #TRANSPOSE "
   ]
  },
  {
   "cell_type": "code",
   "execution_count": 60,
   "id": "88c6bbd5-b96f-4acd-aeb4-2b7414d34719",
   "metadata": {},
   "outputs": [
    {
     "data": {
      "text/plain": [
       "array([[1, 2, 3],\n",
       "       [4, 5, 6],\n",
       "       [7, 8, 9]])"
      ]
     },
     "execution_count": 60,
     "metadata": {},
     "output_type": "execute_result"
    }
   ],
   "source": [
    "x"
   ]
  },
  {
   "cell_type": "code",
   "execution_count": 61,
   "id": "fd692b9b-718c-4bc9-bbaa-063ff7600043",
   "metadata": {},
   "outputs": [],
   "source": [
    "x2=np.array([[2, 3, 1],\n",
    "       [5, 9, 6],\n",
    "       [4, 8,7]])"
   ]
  },
  {
   "cell_type": "code",
   "execution_count": 62,
   "id": "23798d6f-ee52-4f5d-937b-eff09c9b93dd",
   "metadata": {},
   "outputs": [
    {
     "data": {
      "text/plain": [
       "array([[2, 3, 1],\n",
       "       [5, 9, 6],\n",
       "       [4, 8, 7]])"
      ]
     },
     "execution_count": 62,
     "metadata": {},
     "output_type": "execute_result"
    }
   ],
   "source": [
    "x2"
   ]
  },
  {
   "cell_type": "code",
   "execution_count": 63,
   "id": "77c2c674-7ea5-4988-8d49-2b1a53f02d54",
   "metadata": {},
   "outputs": [
    {
     "data": {
      "text/plain": [
       "array([[ 3,  5,  4],\n",
       "       [ 9, 14, 12],\n",
       "       [11, 16, 16]])"
      ]
     },
     "execution_count": 63,
     "metadata": {},
     "output_type": "execute_result"
    }
   ],
   "source": [
    "x+x2     #ARRAY X = ARRAY X2"
   ]
  },
  {
   "cell_type": "code",
   "execution_count": 64,
   "id": "41d2c939-4c2b-494e-8507-7a74a73e0075",
   "metadata": {},
   "outputs": [
    {
     "data": {
      "text/plain": [
       "array([[1, 2, 3],\n",
       "       [4, 5, 6],\n",
       "       [7, 8, 9]])"
      ]
     },
     "execution_count": 64,
     "metadata": {},
     "output_type": "execute_result"
    }
   ],
   "source": [
    "x"
   ]
  },
  {
   "cell_type": "code",
   "execution_count": 65,
   "id": "b52aed30-5cf9-4c4c-bea1-f84b08742f28",
   "metadata": {},
   "outputs": [
    {
     "data": {
      "text/plain": [
       "array([[2, 3, 1],\n",
       "       [5, 9, 6],\n",
       "       [4, 8, 7]])"
      ]
     },
     "execution_count": 65,
     "metadata": {},
     "output_type": "execute_result"
    }
   ],
   "source": [
    "x2"
   ]
  },
  {
   "cell_type": "code",
   "execution_count": 66,
   "id": "848a9a03-b53a-4581-af19-b5fe55d6040c",
   "metadata": {},
   "outputs": [
    {
     "data": {
      "text/plain": [
       "array([[-1, -1,  2],\n",
       "       [-1, -4,  0],\n",
       "       [ 3,  0,  2]])"
      ]
     },
     "execution_count": 66,
     "metadata": {},
     "output_type": "execute_result"
    }
   ],
   "source": [
    "x-x2"
   ]
  },
  {
   "cell_type": "code",
   "execution_count": 67,
   "id": "43cb12a2-b7d3-46f1-9874-ba5833fe0707",
   "metadata": {},
   "outputs": [
    {
     "data": {
      "text/plain": [
       "array([[1, 2, 3],\n",
       "       [4, 5, 6],\n",
       "       [7, 8, 9]])"
      ]
     },
     "execution_count": 67,
     "metadata": {},
     "output_type": "execute_result"
    }
   ],
   "source": [
    "x"
   ]
  },
  {
   "cell_type": "code",
   "execution_count": 68,
   "id": "838c3a46-6c1c-4bce-b492-8b98f61c8486",
   "metadata": {},
   "outputs": [
    {
     "data": {
      "text/plain": [
       "array([[2, 3, 1],\n",
       "       [5, 9, 6],\n",
       "       [4, 8, 7]])"
      ]
     },
     "execution_count": 68,
     "metadata": {},
     "output_type": "execute_result"
    }
   ],
   "source": [
    "x2"
   ]
  },
  {
   "cell_type": "code",
   "execution_count": 69,
   "id": "432dcef0-838f-43a6-9b9e-197aa1ff4ed8",
   "metadata": {},
   "outputs": [
    {
     "data": {
      "text/plain": [
       "array([[ 2,  6,  3],\n",
       "       [20, 45, 36],\n",
       "       [28, 64, 63]])"
      ]
     },
     "execution_count": 69,
     "metadata": {},
     "output_type": "execute_result"
    }
   ],
   "source": [
    "x*x2"
   ]
  },
  {
   "cell_type": "code",
   "execution_count": 70,
   "id": "4d5b8df7-69e2-45c2-b90e-f8719728f78a",
   "metadata": {},
   "outputs": [
    {
     "data": {
      "text/plain": [
       "array([[1, 2, 3],\n",
       "       [4, 5, 6],\n",
       "       [7, 8, 9]])"
      ]
     },
     "execution_count": 70,
     "metadata": {},
     "output_type": "execute_result"
    }
   ],
   "source": [
    "x"
   ]
  },
  {
   "cell_type": "code",
   "execution_count": 71,
   "id": "21bb9b41-4e32-412a-b902-adcf691c0bbb",
   "metadata": {},
   "outputs": [
    {
     "data": {
      "text/plain": [
       "array([[2, 3, 1],\n",
       "       [5, 9, 6],\n",
       "       [4, 8, 7]])"
      ]
     },
     "execution_count": 71,
     "metadata": {},
     "output_type": "execute_result"
    }
   ],
   "source": [
    "x2"
   ]
  },
  {
   "cell_type": "code",
   "execution_count": 72,
   "id": "184280d7-2a56-4ae3-bb5c-408f9880abf5",
   "metadata": {},
   "outputs": [
    {
     "data": {
      "text/plain": [
       "array([[1, 2, 0],\n",
       "       [4, 5, 0],\n",
       "       [3, 0, 2]])"
      ]
     },
     "execution_count": 72,
     "metadata": {},
     "output_type": "execute_result"
    }
   ],
   "source": [
    "x%x2"
   ]
  },
  {
   "cell_type": "code",
   "execution_count": 73,
   "id": "079e16b3-daaa-41d9-a3eb-314aa432e62b",
   "metadata": {},
   "outputs": [
    {
     "data": {
      "text/plain": [
       "array([[1, 2, 3],\n",
       "       [4, 5, 6],\n",
       "       [7, 8, 9]])"
      ]
     },
     "execution_count": 73,
     "metadata": {},
     "output_type": "execute_result"
    }
   ],
   "source": [
    "x"
   ]
  },
  {
   "cell_type": "code",
   "execution_count": 74,
   "id": "fbf6286f-7b98-4aa9-9615-81c9572089b3",
   "metadata": {},
   "outputs": [
    {
     "data": {
      "text/plain": [
       "array([[1.        , 1.41421356, 1.73205081],\n",
       "       [2.        , 2.23606798, 2.44948974],\n",
       "       [2.64575131, 2.82842712, 3.        ]])"
      ]
     },
     "execution_count": 74,
     "metadata": {},
     "output_type": "execute_result"
    }
   ],
   "source": [
    "np.sqrt(x)    #SQUARE ROOT OF X"
   ]
  },
  {
   "cell_type": "code",
   "execution_count": 75,
   "id": "9180e95e-540c-4e39-bb85-42f00ca21b53",
   "metadata": {},
   "outputs": [
    {
     "data": {
      "text/plain": [
       "array([[1, 2, 3],\n",
       "       [4, 5, 6],\n",
       "       [7, 8, 9]])"
      ]
     },
     "execution_count": 75,
     "metadata": {},
     "output_type": "execute_result"
    }
   ],
   "source": [
    "x"
   ]
  },
  {
   "cell_type": "code",
   "execution_count": 76,
   "id": "e2827f97-54b9-4651-b12a-2b6fceafb9c7",
   "metadata": {},
   "outputs": [
    {
     "data": {
      "text/plain": [
       "(array([1, 2, 2, 2], dtype=int64), array([2, 0, 1, 2], dtype=int64))"
      ]
     },
     "execution_count": 76,
     "metadata": {},
     "output_type": "execute_result"
    }
   ],
   "source": [
    "np.where(x>5)"
   ]
  },
  {
   "cell_type": "code",
   "execution_count": 77,
   "id": "ac818960-503e-4901-ad3b-ef71d232379e",
   "metadata": {},
   "outputs": [
    {
     "data": {
      "text/plain": [
       "tuple"
      ]
     },
     "execution_count": 77,
     "metadata": {},
     "output_type": "execute_result"
    }
   ],
   "source": [
    "type(np.where(x>5))"
   ]
  },
  {
   "cell_type": "code",
   "execution_count": 78,
   "id": "e60661a5-5c48-43cf-8a92-cbb490daa9dd",
   "metadata": {},
   "outputs": [
    {
     "data": {
      "text/plain": [
       "array([[2, 3, 1],\n",
       "       [5, 9, 6],\n",
       "       [4, 8, 7]])"
      ]
     },
     "execution_count": 78,
     "metadata": {},
     "output_type": "execute_result"
    }
   ],
   "source": [
    "x2"
   ]
  },
  {
   "cell_type": "code",
   "execution_count": 79,
   "id": "35f4147e-9f48-47eb-8e62-efd1bda0277e",
   "metadata": {},
   "outputs": [
    {
     "data": {
      "text/plain": [
       "tuple"
      ]
     },
     "execution_count": 79,
     "metadata": {},
     "output_type": "execute_result"
    }
   ],
   "source": [
    "type(np.where(x2>4))"
   ]
  },
  {
   "cell_type": "code",
   "execution_count": 80,
   "id": "bff9c5b4-b7f6-4c24-8f74-56cb951835b3",
   "metadata": {},
   "outputs": [
    {
     "data": {
      "text/plain": [
       "9"
      ]
     },
     "execution_count": 80,
     "metadata": {},
     "output_type": "execute_result"
    }
   ],
   "source": [
    "np.count_nonzero(x2)"
   ]
  },
  {
   "cell_type": "code",
   "execution_count": 81,
   "id": "99594d3b-4fb4-4a01-b91d-232217df352e",
   "metadata": {},
   "outputs": [],
   "source": [
    "import sys"
   ]
  },
  {
   "cell_type": "code",
   "execution_count": 82,
   "id": "7abec3df-610f-486a-8df2-331501a32c2c",
   "metadata": {},
   "outputs": [],
   "source": [
    "py_ar=[1,4,55,3]"
   ]
  },
  {
   "cell_type": "code",
   "execution_count": 83,
   "id": "8cba2d2a-2db2-445e-8637-85923fedd772",
   "metadata": {},
   "outputs": [],
   "source": [
    "np_ar=np.array(py_ar)"
   ]
  },
  {
   "cell_type": "code",
   "execution_count": 84,
   "id": "7379bad6-78ae-42c8-a113-14f6666538f2",
   "metadata": {},
   "outputs": [
    {
     "data": {
      "text/plain": [
       "112"
      ]
     },
     "execution_count": 84,
     "metadata": {},
     "output_type": "execute_result"
    }
   ],
   "source": [
    "sys.getsizeof(1)*len(py_ar)    #python size"
   ]
  },
  {
   "cell_type": "code",
   "execution_count": 85,
   "id": "a15bb1f3-0905-4c2b-a663-d7f6ee29c843",
   "metadata": {},
   "outputs": [
    {
     "data": {
      "text/plain": [
       "16"
      ]
     },
     "execution_count": 85,
     "metadata": {},
     "output_type": "execute_result"
    }
   ],
   "source": [
    "np_ar.itemsize*np_ar.size  #NUMPY SIZE"
   ]
  },
  {
   "cell_type": "code",
   "execution_count": null,
   "id": "277b0c1a-5182-4fc5-b45b-c9e4f86f9d41",
   "metadata": {},
   "outputs": [],
   "source": []
  },
  {
   "cell_type": "code",
   "execution_count": null,
   "id": "0a9ee31c-2d06-4059-89e0-5396f316a8e7",
   "metadata": {},
   "outputs": [],
   "source": []
  }
 ],
 "metadata": {
  "kernelspec": {
   "display_name": "Python 3 (ipykernel)",
   "language": "python",
   "name": "python3"
  },
  "language_info": {
   "codemirror_mode": {
    "name": "ipython",
    "version": 3
   },
   "file_extension": ".py",
   "mimetype": "text/x-python",
   "name": "python",
   "nbconvert_exporter": "python",
   "pygments_lexer": "ipython3",
   "version": "3.10.4"
  }
 },
 "nbformat": 4,
 "nbformat_minor": 5
}
